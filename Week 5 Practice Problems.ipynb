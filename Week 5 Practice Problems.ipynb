{
  "nbformat": 4,
  "nbformat_minor": 0,
  "metadata": {
    "colab": {
      "provenance": []
    },
    "kernelspec": {
      "name": "python3",
      "display_name": "Python 3"
    },
    "language_info": {
      "name": "python"
    }
  },
  "cells": [
    {
      "cell_type": "markdown",
      "source": [
        "**1. How do you assess the statistical significance of an insight?**"
      ],
      "metadata": {
        "id": "tg7t6fq9LOIf"
      }
    },
    {
      "cell_type": "markdown",
      "source": [
        "The statistical significance of an insight can be assessed using a null hypothesis and a p-value. An insight is deemed of statistical significance if the probability of occurrence is less than or equal to the p-value, given the null hypothesis is true."
      ],
      "metadata": {
        "id": "zcoOLw2yLP0B"
      }
    },
    {
      "cell_type": "markdown",
      "source": [
        "**2. What is the Central Limit Theorem? Explain it. Why is it important?**"
      ],
      "metadata": {
        "id": "PSPoJS2NLRhX"
      }
    },
    {
      "cell_type": "markdown",
      "source": [
        "The Central Limit Theorem suggests that if sampling randomly and independently, the sample means distribute normally as the sample size increases, even if the original poppulation is not normally distributed. This observation is important as it enables practicioners to rely on the normal distribution as an approximation for the distribution of sample means. It is also important to note that complete information about populations is not guaranteed in real-world applications."
      ],
      "metadata": {
        "id": "Lk9ZjNwVLR2b"
      }
    },
    {
      "cell_type": "markdown",
      "source": [
        "**3. What is the statistical power?**"
      ],
      "metadata": {
        "id": "uuBau_pVLR9_"
      }
    },
    {
      "cell_type": "markdown",
      "source": [
        "Statistical power is the probability that a statistical test will correctly reject a null hypothesis when it is false."
      ],
      "metadata": {
        "id": "i5Mn7aJfLSGQ"
      }
    },
    {
      "cell_type": "markdown",
      "source": [
        "**4. How do you control for biases?**"
      ],
      "metadata": {
        "id": "rCMSvGkOLSMA"
      }
    },
    {
      "cell_type": "markdown",
      "source": [
        "One method to control for biases is through random sampling. This method attempts to provide an equal chance of any member in a given poppulation to be a part of a sample."
      ],
      "metadata": {
        "id": "dVXDWxKKLSRY"
      }
    },
    {
      "cell_type": "markdown",
      "source": [
        "**5. What are confounding variables?**"
      ],
      "metadata": {
        "id": "20jl1pOoLSWH"
      }
    },
    {
      "cell_type": "markdown",
      "source": [
        "Confounding variables are variables that are associated with both the independent variable and the dependent variable. This distorts the apparent relationship between the independent variable and the dependent variable."
      ],
      "metadata": {
        "id": "2bdQmlrGLSaK"
      }
    },
    {
      "cell_type": "markdown",
      "source": [
        "**6. What is A/B testing?**"
      ],
      "metadata": {
        "id": "4jX4J0nNLSdw"
      }
    },
    {
      "cell_type": "markdown",
      "source": [
        "A/B testing are controlled mini-expirements to compare the outcomes from decision A and decision B."
      ],
      "metadata": {
        "id": "dG9ftaEDLbdP"
      }
    },
    {
      "cell_type": "markdown",
      "source": [
        "**7. What are confidence intervals?**"
      ],
      "metadata": {
        "id": "i5BypDqvLfBb"
      }
    },
    {
      "cell_type": "markdown",
      "source": [
        "Confidence intervals are statistical ranges used to estimate a population parameter with a certain level of confidence. It provides a range of values within which the true population parameter is likely to fall."
      ],
      "metadata": {
        "id": "kPNIm277LfT9"
      }
    }
  ]
}