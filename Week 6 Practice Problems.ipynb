{
  "nbformat": 4,
  "nbformat_minor": 0,
  "metadata": {
    "colab": {
      "provenance": []
    },
    "kernelspec": {
      "name": "python3",
      "display_name": "Python 3"
    },
    "language_info": {
      "name": "python"
    }
  },
  "cells": [
    {
      "cell_type": "markdown",
      "source": [
        "**Linear Regression**\n",
        "1. Preprocess Test data and get predictions\n",
        "2. Compute Mean Abolute Error, Mean Square error for test data\n",
        "3. Implement Ridge and Lasso Regression and then compute the following metrics on test data\n"
      ],
      "metadata": {
        "id": "eDpz6y2aCuqH"
      }
    },
    {
      "cell_type": "code",
      "execution_count": 1,
      "metadata": {
        "id": "Q06GN7pqCI_q"
      },
      "outputs": [],
      "source": [
        "# Libraries\n",
        "import pandas as pd\n",
        "import numpy as np\n",
        "import seaborn as sns\n",
        "import matplotlib.pyplot as plt\n",
        "\n",
        "from sklearn.preprocessing import OneHotEncoder, StandardScaler\n",
        "from sklearn.model_selection import train_test_split\n",
        "\n",
        "from sklearn.linear_model import LinearRegression, Ridge, Lasso\n",
        "from sklearn.metrics import mean_absolute_error, mean_squared_error\n",
        "\n",
        "from sklearn.tree import DecisionTreeRegressor\n",
        "from sklearn.ensemble import RandomForestRegressor\n",
        "\n",
        "import warnings\n",
        "warnings.filterwarnings('ignore')\n",
        "pd.set_option(\"display.max_columns\", 101)"
      ]
    },
    {
      "cell_type": "code",
      "source": [
        "# Load Data\n",
        "data = pd.read_csv(\"https://raw.githubusercontent.com/kartikjindgar/NYU-DataScience-Bootcamp-Fall23/main/Week6/train.csv\")"
      ],
      "metadata": {
        "id": "QsFvVrhkAkEa"
      },
      "execution_count": 2,
      "outputs": []
    },
    {
      "cell_type": "code",
      "source": [
        "# Drop id, timestamp and country columns\n",
        "data = data.drop(columns=['id', 'timestamp','country'])\n",
        "\n",
        "# Replace NANs in hours_per_week with median value of the column\n",
        "data.loc[data['hours_per_week'].isna(), 'hours_per_week'] = data['hours_per_week'].median()\n",
        "data.loc[data['telecommute_days_per_week'].isna(), 'telecommute_days_per_week'] = data['telecommute_days_per_week'].median()\n",
        "\n",
        "# Handling null values in categorical columns\n",
        "data = data.dropna()"
      ],
      "metadata": {
        "id": "1lTjaKT_Aw_-"
      },
      "execution_count": 3,
      "outputs": []
    },
    {
      "cell_type": "code",
      "source": [
        "# Create another copy of dataset and append encoded features to it\n",
        "data_train = data.copy()\n",
        "data_train.head()\n",
        "\n",
        "# Select categorical features\n",
        "cat_cols = [c for c in data_train.columns if data_train[c].dtype == 'object'\n",
        "            and c not in ['is_manager', 'certifications']]\n",
        "cat_data = data_train[cat_cols]\n",
        "print(\"Categorical Features: \", cat_cols)\n",
        "\n",
        "# Encoding binary variables\n",
        "binary_cols = ['is_manager', 'certifications']\n",
        "for c in binary_cols:\n",
        "    data_train[c] = data_train[c].replace(to_replace=['Yes'], value=1)\n",
        "    data_train[c] = data_train[c].replace(to_replace=['No'], value=0)"
      ],
      "metadata": {
        "colab": {
          "base_uri": "https://localhost:8080/"
        },
        "id": "-o4li-o1BLyA",
        "outputId": "10245bfc-af67-4a28-a7b7-1d519236455b"
      },
      "execution_count": 4,
      "outputs": [
        {
          "output_type": "stream",
          "name": "stdout",
          "text": [
            "Categorical Features:  ['employment_status', 'job_title', 'education', 'is_education_computer_related']\n"
          ]
        }
      ]
    },
    {
      "cell_type": "code",
      "source": [
        "# Final Data with One-Hot Encoded Variables\n",
        "final_data = pd.get_dummies(data_train, columns=cat_cols, drop_first= True)\n",
        "print(\"Final Data Shape: \", final_data.shape)\n",
        "print(\"Final Data Columns:\", final_data.columns)"
      ],
      "metadata": {
        "colab": {
          "base_uri": "https://localhost:8080/"
        },
        "id": "ZaCqy2DjBUvi",
        "outputId": "94beb14f-3fce-4bdd-ef97-75876691fdd0"
      },
      "execution_count": 5,
      "outputs": [
        {
          "output_type": "stream",
          "name": "stdout",
          "text": [
            "Final Data Shape:  (4261, 25)\n",
            "Final Data Columns: Index(['job_years', 'is_manager', 'hours_per_week',\n",
            "       'telecommute_days_per_week', 'certifications', 'salary',\n",
            "       'employment_status_Independent or freelancer or company owner',\n",
            "       'employment_status_Part time', 'job_title_Analytics consultant',\n",
            "       'job_title_Architect', 'job_title_DBA', 'job_title_Data Scientist',\n",
            "       'job_title_Developer', 'job_title_Engineer', 'job_title_Manager',\n",
            "       'job_title_Other', 'job_title_Principal database engineer',\n",
            "       'job_title_Sales', 'job_title_Sr Consultant ',\n",
            "       'education_Bachelors (4 years)', 'education_Doctorate/PhD',\n",
            "       'education_Masters', 'education_None (no degree completed)',\n",
            "       'is_education_computer_related_Unknown',\n",
            "       'is_education_computer_related_Yes'],\n",
            "      dtype='object')\n"
          ]
        }
      ]
    },
    {
      "cell_type": "code",
      "source": [
        "# Train-Test Split\n",
        "y = final_data['salary']\n",
        "X = final_data.drop(columns=['salary'])\n",
        "\n",
        "X_train, X_test, y_train, y_test = train_test_split(X, y, test_size=0.3)\n",
        "print(\"Training Set Dimensions:\", X_train.shape)\n",
        "print(\"Validation Set Dimensions:\", X_test.shape)"
      ],
      "metadata": {
        "colab": {
          "base_uri": "https://localhost:8080/"
        },
        "id": "uFf93TUpBgxQ",
        "outputId": "1fc7793b-baac-4b33-ce57-0cc62805959e"
      },
      "execution_count": 6,
      "outputs": [
        {
          "output_type": "stream",
          "name": "stdout",
          "text": [
            "Training Set Dimensions: (2982, 24)\n",
            "Validation Set Dimensions: (1279, 24)\n"
          ]
        }
      ]
    },
    {
      "cell_type": "code",
      "source": [
        "# Normalizing Data\n",
        "num_cols = ['job_years','hours_per_week','telecommute_days_per_week']\n",
        "scaler = StandardScaler()\n",
        "scaler.fit(X_train[num_cols])\n",
        "X_train[num_cols] = scaler.transform(X_train[num_cols])"
      ],
      "metadata": {
        "id": "bzCGydViBwB0"
      },
      "execution_count": 7,
      "outputs": []
    },
    {
      "cell_type": "code",
      "source": [
        "# Train Model\n",
        "reg = LinearRegression()\n",
        "reg.fit(X_train, y_train)\n",
        "print(\"Coefficients: \", reg.coef_)\n",
        "print(\"Intercept: \", reg.intercept_)"
      ],
      "metadata": {
        "colab": {
          "base_uri": "https://localhost:8080/"
        },
        "id": "o30BNpWDB9i6",
        "outputId": "aebbfff5-6b04-475d-debc-0d3e257184db"
      },
      "execution_count": 8,
      "outputs": [
        {
          "output_type": "stream",
          "name": "stdout",
          "text": [
            "Coefficients:  [ 1.78395235e+02  1.08975106e+02  1.97275890e+02  2.38030143e+02\n",
            "  1.04469018e+02 -6.17922949e+01  2.36108714e+02 -2.27373675e-13\n",
            "  1.11780827e+03  8.67345694e+02  7.15364879e+02  5.67930350e+02\n",
            "  1.02562094e+03  7.68838709e+02  1.83268985e+02  9.99707631e+02\n",
            "  2.27373675e-13 -3.97903932e-13  3.63989653e+02 -9.04688319e+00\n",
            "  2.35696529e+02  1.76653882e+02 -3.06772494e+02 -1.98616256e+02]\n",
            "Intercept:  6097.408758832414\n"
          ]
        }
      ]
    },
    {
      "cell_type": "code",
      "source": [
        "# Get Training Data Predictions\n",
        "ytr_pred = reg.predict(X_train)\n",
        "\n",
        "# Training Data Mean Absolute Error and Mean Square Error\n",
        "print(\"Training Mean Absolute Error: \", mean_absolute_error(y_train, ytr_pred))\n",
        "print(\"Training Mean Square Error: \", mean_squared_error(y_train, ytr_pred)**0.5)"
      ],
      "metadata": {
        "colab": {
          "base_uri": "https://localhost:8080/"
        },
        "id": "FgeEaZQBCIZH",
        "outputId": "bdcfc598-feb6-4c54-cba7-5a3876197d20"
      },
      "execution_count": 9,
      "outputs": [
        {
          "output_type": "stream",
          "name": "stdout",
          "text": [
            "Training Mean Absolute Error:  864.6719438968619\n",
            "Training Mean Square Error:  1219.2769814672836\n"
          ]
        }
      ]
    },
    {
      "cell_type": "code",
      "source": [
        "# Q1: Preprocess Test data and get predictions\n",
        "X_test[num_cols] = scaler.transform(X_test[num_cols])\n",
        "yts_pred = reg.predict(X_test)"
      ],
      "metadata": {
        "id": "eSrK-S1FCoV4"
      },
      "execution_count": 10,
      "outputs": []
    },
    {
      "cell_type": "code",
      "source": [
        "# Q2: Compute Mean Abolute Error, Mean Square error for test data\n",
        "print(\"Test Mean Absolute Error: \", mean_absolute_error(y_test, yts_pred))\n",
        "print(\"Test Mean Square Error: \", mean_squared_error(y_test, yts_pred)**0.5)"
      ],
      "metadata": {
        "colab": {
          "base_uri": "https://localhost:8080/"
        },
        "id": "mbbr41PHDJFs",
        "outputId": "4f0cea55-d53d-4565-d974-b21a1fd905ee"
      },
      "execution_count": 11,
      "outputs": [
        {
          "output_type": "stream",
          "name": "stdout",
          "text": [
            "Test Mean Absolute Error:  856.9604466694497\n",
            "Test Mean Square Error:  1211.1102808325873\n"
          ]
        }
      ]
    },
    {
      "cell_type": "code",
      "source": [
        "# Q3: Implement Ridge and Lasso Regression and then compute the following metrics on test data\n",
        "ridge = Ridge(alpha=1)\n",
        "ridge.fit(X_train,y_train)\n",
        "ridge_y_pred = ridge.predict(X_test)\n",
        "print(\"Ridge Mean Absolute Error: \", mean_absolute_error(y_test, ridge_y_pred))\n",
        "print(\"Ridge Mean Square Error: \", mean_squared_error(y_test, ridge_y_pred)**0.5)\n",
        "\n",
        "lasso = Lasso(alpha=1)\n",
        "lasso.fit(X_train,y_train)\n",
        "lasso_y_pred = lasso.predict(X_test)\n",
        "print(\"Lasso Mean Absolute Error: \", mean_absolute_error(y_test, lasso_y_pred))\n",
        "print(\"Lasso Mean Square Error: \", mean_squared_error(y_test, lasso_y_pred)**0.5)"
      ],
      "metadata": {
        "colab": {
          "base_uri": "https://localhost:8080/"
        },
        "id": "BP_fuws_DL2S",
        "outputId": "656e11a6-da41-4a8e-eb37-b4edb907d9fc"
      },
      "execution_count": 12,
      "outputs": [
        {
          "output_type": "stream",
          "name": "stdout",
          "text": [
            "Ridge Mean Absolute Error:  856.9764424020428\n",
            "Ridge Mean Square Error:  1210.9927325240408\n",
            "Lasso Mean Absolute Error:  856.895232061653\n",
            "Lasso Mean Square Error:  1210.6743101138686\n"
          ]
        }
      ]
    },
    {
      "cell_type": "markdown",
      "source": [
        "**Trees**\n",
        "1. Compute errors on test sets\n",
        "2. Play with different parameter of decision trees and random forests and see the impact on train and test error\n",
        "3. [OPTIONAL] implement cross validation and get best hyperparameters"
      ],
      "metadata": {
        "id": "7qSd2LRYC7Q3"
      }
    },
    {
      "cell_type": "code",
      "source": [
        "# Train Decision Tree regression model\n",
        "decisiontree = DecisionTreeRegressor(max_depth = 10, min_samples_split = 5)\n",
        "decisiontree.fit(X_train, y_train)\n",
        "\n",
        "# Training Data Predictions\n",
        "tree_ytr_pred = decisiontree.predict(X_train)\n",
        "\n",
        "# Evaluating train error\n",
        "print(\"Mean Absolute Error: \", mean_absolute_error(y_train, tree_ytr_pred))"
      ],
      "metadata": {
        "colab": {
          "base_uri": "https://localhost:8080/"
        },
        "id": "9otPNHLCFf9L",
        "outputId": "e428656f-82cd-4ae4-afae-503bb51a8776"
      },
      "execution_count": 13,
      "outputs": [
        {
          "output_type": "stream",
          "name": "stdout",
          "text": [
            "Mean Absolute Error:  632.1755837701602\n"
          ]
        }
      ]
    },
    {
      "cell_type": "code",
      "source": [
        "# Q1: Compute errors on test sets\n",
        "tree_yts_pred = decisiontree.predict(X_test)\n",
        "print(\"Mean Absolute Error: \", mean_absolute_error(y_test, tree_yts_pred))"
      ],
      "metadata": {
        "colab": {
          "base_uri": "https://localhost:8080/"
        },
        "id": "jSyEv-SaHXiP",
        "outputId": "67366d16-3994-4849-b593-6ded1584b32a"
      },
      "execution_count": 14,
      "outputs": [
        {
          "output_type": "stream",
          "name": "stdout",
          "text": [
            "Mean Absolute Error:  898.4274959096119\n"
          ]
        }
      ]
    },
    {
      "cell_type": "code",
      "source": [
        "# Q2: Play with different parameter of decision trees and random forests and see the impact on train and test error\n",
        "decisiontree2 = DecisionTreeRegressor(max_depth = 8, min_samples_split = 5)\n",
        "decisiontree2.fit(X_train, y_train)\n",
        "tree_ytr_pred = decisiontree2.predict(X_train)\n",
        "tree_yts_pred = decisiontree2.predict(X_test)\n",
        "print(\"Max Depth: 8, Min Samples Split: 5\")\n",
        "print(\"Training Mean Absolute Error: \", mean_absolute_error(y_train, tree_ytr_pred))\n",
        "print(\"Test Mean Absolute Error: \", mean_absolute_error(y_test, tree_yts_pred))\n",
        "print(\"\")\n",
        "\n",
        "decisiontree3 = DecisionTreeRegressor(max_depth = 6, min_samples_split = 3)\n",
        "decisiontree3.fit(X_train, y_train)\n",
        "tree_ytr_pred = decisiontree3.predict(X_train)\n",
        "tree_yts_pred = decisiontree3.predict(X_test)\n",
        "print(\"Max Depth: 6, Min Samples Split: 3\")\n",
        "print(\"Training Mean Absolute Error: \", mean_absolute_error(y_train, tree_ytr_pred))\n",
        "print(\"Test Mean Absolute Error: \", mean_absolute_error(y_test, tree_yts_pred))\n",
        "print(\"\")\n",
        "\n",
        "decisiontree4 = DecisionTreeRegressor(max_depth = 4, min_samples_split = 2)\n",
        "decisiontree4.fit(X_train, y_train)\n",
        "tree_ytr_pred = decisiontree4.predict(X_train)\n",
        "tree_yts_pred = decisiontree4.predict(X_test)\n",
        "print(\"Max Depth: 4, Min Samples Split: 2\")\n",
        "print(\"Training Mean Absolute Error: \", mean_absolute_error(y_train, tree_ytr_pred))\n",
        "print(\"Test Mean Absolute Error: \", mean_absolute_error(y_test, tree_yts_pred))\n",
        "print(\"\")\n",
        "\n",
        "decisiontree5 = DecisionTreeRegressor(max_depth = 12, min_samples_split = 6)\n",
        "decisiontree5.fit(X_train, y_train)\n",
        "tree_ytr_pred = decisiontree5.predict(X_train)\n",
        "tree_yts_pred = decisiontree5.predict(X_test)\n",
        "print(\"Max Depth: 12, Min Samples Split: 6\")\n",
        "print(\"Training Mean Absolute Error: \", mean_absolute_error(y_train, tree_ytr_pred))\n",
        "print(\"Test Mean Absolute Error: \", mean_absolute_error(y_test, tree_yts_pred))\n",
        "print(\"\")"
      ],
      "metadata": {
        "colab": {
          "base_uri": "https://localhost:8080/"
        },
        "id": "jFvSIIEdHnTH",
        "outputId": "56397d65-3d8e-411f-ffe3-2f1a6f843902"
      },
      "execution_count": 15,
      "outputs": [
        {
          "output_type": "stream",
          "name": "stdout",
          "text": [
            "Max Depth: 8, Min Samples Split: 5\n",
            "Training Mean Absolute Error:  730.9959768352635\n",
            "Test Mean Absolute Error:  876.6807674097206\n",
            "\n",
            "Max Depth: 6, Min Samples Split: 3\n",
            "Training Mean Absolute Error:  808.3148461189426\n",
            "Test Mean Absolute Error:  870.2085705214363\n",
            "\n",
            "Max Depth: 4, Min Samples Split: 2\n",
            "Training Mean Absolute Error:  856.9779536901425\n",
            "Test Mean Absolute Error:  865.5802942428617\n",
            "\n",
            "Max Depth: 12, Min Samples Split: 6\n",
            "Training Mean Absolute Error:  552.6279156683639\n",
            "Test Mean Absolute Error:  895.7583895033226\n",
            "\n"
          ]
        }
      ]
    }
  ]
}