{
  "nbformat": 4,
  "nbformat_minor": 0,
  "metadata": {
    "colab": {
      "provenance": []
    },
    "kernelspec": {
      "name": "python3",
      "display_name": "Python 3"
    },
    "language_info": {
      "name": "python"
    }
  },
  "cells": [
    {
      "cell_type": "markdown",
      "source": [
        "# **Numpy Practice Questions**"
      ],
      "metadata": {
        "id": "gD7FBTNHiwXH"
      }
    },
    {
      "cell_type": "markdown",
      "source": [
        "1. Define two custom numpy arrays, say A and B. Generate two new numpy arrays by stacking A and B vertically and horizontally."
      ],
      "metadata": {
        "id": "IgeWWNC_i0Dx"
      }
    },
    {
      "cell_type": "code",
      "source": [
        "import numpy as np\n",
        "A = np.array([1, 2, 3])\n",
        "B = np.array([4, 5, 6])\n",
        "vertically_stacked = np.vstack((A, B))\n",
        "horizontally_stacked = np.hstack((A,B))\n",
        "print(vertically_stacked)\n",
        "print(horizontally_stacked)"
      ],
      "metadata": {
        "id": "aC4sxuV7i273",
        "colab": {
          "base_uri": "https://localhost:8080/"
        },
        "outputId": "24b0c626-47db-48d4-eca5-9f2a8c6bb77b"
      },
      "execution_count": 1,
      "outputs": [
        {
          "output_type": "stream",
          "name": "stdout",
          "text": [
            "[[1 2 3]\n",
            " [4 5 6]]\n",
            "[1 2 3 4 5 6]\n"
          ]
        }
      ]
    },
    {
      "cell_type": "markdown",
      "source": [
        "2. Find common elements between A and B. [Hint : Intersection of two sets]"
      ],
      "metadata": {
        "id": "kwPw_TLUi2Zf"
      }
    },
    {
      "cell_type": "code",
      "source": [
        "A = np.array([1, 2, 3, 4, 5, 6])\n",
        "B = np.array([1, 2, 4, 6, 8, 9])\n",
        "common_elements = np.array(list(set(A) & set(B)))\n",
        "print(common_elements)"
      ],
      "metadata": {
        "id": "yMQqdMY7i3XZ",
        "colab": {
          "base_uri": "https://localhost:8080/"
        },
        "outputId": "13defd94-b20a-41f3-c7c4-96ca15a011b0"
      },
      "execution_count": 2,
      "outputs": [
        {
          "output_type": "stream",
          "name": "stdout",
          "text": [
            "[1 2 4 6]\n"
          ]
        }
      ]
    },
    {
      "cell_type": "markdown",
      "source": [
        "3. Extract all numbers from A which are within a specific range. eg between 5 and 10. [Hint: np.where() might be useful or boolean masks]"
      ],
      "metadata": {
        "id": "78N_FWrgi2fb"
      }
    },
    {
      "cell_type": "code",
      "source": [
        "A = np.array([1, 2, 3, 4, 5, 6, 7, 8, 9, 10, 11, 12])\n",
        "extracted_indices = np.where((A >= 5) & (A <= 10))\n",
        "print(A[extracted_indices])"
      ],
      "metadata": {
        "id": "Ud0yVupEi3rK",
        "colab": {
          "base_uri": "https://localhost:8080/"
        },
        "outputId": "28902073-18bf-4289-df96-4e1d9a16e47c"
      },
      "execution_count": 3,
      "outputs": [
        {
          "output_type": "stream",
          "name": "stdout",
          "text": [
            "[ 5  6  7  8  9 10]\n"
          ]
        }
      ]
    },
    {
      "cell_type": "markdown",
      "source": [
        "4. Filter the rows of iris_2d that has petallength (3rd column) > 1.5 and sepallength (1st column) < 5.0\n",
        "\n",
        "  url = 'https://archive.ics.uci.edu/ml/machine-learning-databases/iris/iris.data'\n",
        "\n",
        "  iris_2d = np.genfromtxt(url, delimiter=',', dtype='float', usecols=[0,1,2,3])\n"
      ],
      "metadata": {
        "id": "s4gKTIzpi3z7"
      }
    },
    {
      "cell_type": "code",
      "source": [
        "url = 'https://archive.ics.uci.edu/ml/machine-learning-databases/iris/iris.data'\n",
        "iris_2d = np.genfromtxt(url, delimiter=',', dtype='float', usecols=[0,1,2,3])\n",
        "filtered_iris_2d = iris_2d[(iris_2d[:, 2] > 1.5) & (iris_2d[:, 0] < 5.0)]\n",
        "print(filtered_iris_2d)"
      ],
      "metadata": {
        "colab": {
          "base_uri": "https://localhost:8080/"
        },
        "id": "HKch1NH3XA56",
        "outputId": "5d171de4-178c-49e2-9ef0-548ddfd9611e"
      },
      "execution_count": 4,
      "outputs": [
        {
          "output_type": "stream",
          "name": "stdout",
          "text": [
            "[[4.8 3.4 1.6 0.2]\n",
            " [4.8 3.4 1.9 0.2]\n",
            " [4.7 3.2 1.6 0.2]\n",
            " [4.8 3.1 1.6 0.2]\n",
            " [4.9 2.4 3.3 1. ]\n",
            " [4.9 2.5 4.5 1.7]]\n"
          ]
        }
      ]
    },
    {
      "cell_type": "markdown",
      "source": [
        "# **Practice Questions for Pandas**"
      ],
      "metadata": {
        "id": "1RXPvQl6jIfp"
      }
    },
    {
      "cell_type": "markdown",
      "source": [
        "1. From df filter the 'Manufacturer', 'Model' and 'Type' for every 20th row starting from 1st (row 0).\n",
        "\n",
        "```\n",
        "df = pd.read_csv('https://raw.githubusercontent.com/selva86/datasets/master/Cars93_miss.csv')\n",
        "```"
      ],
      "metadata": {
        "id": "HYEqmM-ajK53"
      }
    },
    {
      "cell_type": "code",
      "source": [
        "import pandas as pd\n",
        "df = pd.read_csv('https://raw.githubusercontent.com/selva86/datasets/master/Cars93_miss.csv')\n",
        "filtered_df = df.loc[::20, ['Manufacturer', 'Model', 'Type']]\n",
        "print(filtered_df)"
      ],
      "metadata": {
        "id": "5UTNpKuFjPuy",
        "colab": {
          "base_uri": "https://localhost:8080/"
        },
        "outputId": "3d0061ad-516b-4df0-d027-4fc00d8a9ad7"
      },
      "execution_count": 5,
      "outputs": [
        {
          "output_type": "stream",
          "name": "stdout",
          "text": [
            "   Manufacturer    Model     Type\n",
            "0         Acura  Integra    Small\n",
            "20     Chrysler  LeBaron  Compact\n",
            "40        Honda  Prelude   Sporty\n",
            "60      Mercury   Cougar  Midsize\n",
            "80       Subaru   Loyale    Small\n"
          ]
        }
      ]
    },
    {
      "cell_type": "markdown",
      "source": [
        "2. Replace missing values in Min.Price and Max.Price columns with their respective mean.\n",
        "\n",
        "```\n",
        "df = pd.read_csv('https://raw.githubusercontent.com/selva86/datasets/master/Cars93_miss.csv')\n",
        "```"
      ],
      "metadata": {
        "id": "pK66LX8kjQCa"
      }
    },
    {
      "cell_type": "code",
      "source": [
        "df = pd.read_csv('https://raw.githubusercontent.com/selva86/datasets/master/Cars93_miss.csv')\n",
        "print(df['Min.Price'], df['Max.Price'], \"\\n---------------------\")\n",
        "df['Min.Price'].fillna(df['Min.Price'].mean(), inplace=True)\n",
        "df['Max.Price'].fillna(df['Max.Price'].mean(), inplace=True)\n",
        "print(df['Min.Price'], df['Max.Price'])"
      ],
      "metadata": {
        "id": "5BYHyAqHjQ3W",
        "colab": {
          "base_uri": "https://localhost:8080/"
        },
        "outputId": "c58fa9a0-2f42-45cc-af95-24bd7e5a5674"
      },
      "execution_count": 6,
      "outputs": [
        {
          "output_type": "stream",
          "name": "stdout",
          "text": [
            "0     12.9\n",
            "1     29.2\n",
            "2     25.9\n",
            "3      NaN\n",
            "4      NaN\n",
            "      ... \n",
            "88    16.6\n",
            "89    17.6\n",
            "90    22.9\n",
            "91    21.8\n",
            "92    24.8\n",
            "Name: Min.Price, Length: 93, dtype: float64 0     18.8\n",
            "1     38.7\n",
            "2     32.3\n",
            "3     44.6\n",
            "4      NaN\n",
            "      ... \n",
            "88    22.7\n",
            "89    22.4\n",
            "90    23.7\n",
            "91    23.5\n",
            "92    28.5\n",
            "Name: Max.Price, Length: 93, dtype: float64 \n",
            "---------------------\n",
            "0     12.900000\n",
            "1     29.200000\n",
            "2     25.900000\n",
            "3     17.118605\n",
            "4     17.118605\n",
            "        ...    \n",
            "88    16.600000\n",
            "89    17.600000\n",
            "90    22.900000\n",
            "91    21.800000\n",
            "92    24.800000\n",
            "Name: Min.Price, Length: 93, dtype: float64 0     18.800000\n",
            "1     38.700000\n",
            "2     32.300000\n",
            "3     44.600000\n",
            "4     21.459091\n",
            "        ...    \n",
            "88    22.700000\n",
            "89    22.400000\n",
            "90    23.700000\n",
            "91    23.500000\n",
            "92    28.500000\n",
            "Name: Max.Price, Length: 93, dtype: float64\n"
          ]
        }
      ]
    },
    {
      "cell_type": "markdown",
      "source": [
        "3. How to get the rows of a dataframe with row sum > 100?\n",
        "\n",
        "```\n",
        "df = pd.DataFrame(np.random.randint(10, 40, 60).reshape(-1, 4))\n",
        "```"
      ],
      "metadata": {
        "id": "a7mXQKn_jQ-E"
      }
    },
    {
      "cell_type": "code",
      "source": [
        "df = pd.DataFrame(np.random.randint(10, 40, 60).reshape(-1, 4))\n",
        "print(df,\"\\n-----------------\")\n",
        "rows = df[df.sum(axis=1) > 100]\n",
        "print(rows)"
      ],
      "metadata": {
        "id": "nPJ8zu_FjRRq",
        "colab": {
          "base_uri": "https://localhost:8080/"
        },
        "outputId": "0874bfaa-c53a-4cde-cefb-b83ab34391be"
      },
      "execution_count": 7,
      "outputs": [
        {
          "output_type": "stream",
          "name": "stdout",
          "text": [
            "     0   1   2   3\n",
            "0   39  17  15  12\n",
            "1   37  17  36  34\n",
            "2   23  15  22  16\n",
            "3   15  19  15  11\n",
            "4   21  27  24  13\n",
            "5   27  19  32  34\n",
            "6   38  20  13  39\n",
            "7   37  27  12  16\n",
            "8   21  24  10  28\n",
            "9   23  37  28  16\n",
            "10  36  36  39  26\n",
            "11  27  16  15  34\n",
            "12  34  27  19  17\n",
            "13  10  34  18  14\n",
            "14  11  36  22  22 \n",
            "-----------------\n",
            "     0   1   2   3\n",
            "1   37  17  36  34\n",
            "5   27  19  32  34\n",
            "6   38  20  13  39\n",
            "9   23  37  28  16\n",
            "10  36  36  39  26\n"
          ]
        }
      ]
    }
  ]
}